{
 "cells": [
  {
   "cell_type": "code",
   "execution_count": 1,
   "metadata": {},
   "outputs": [],
   "source": [
    "# Supress Warnings\n",
    "\n",
    "import warnings\n",
    "warnings.filterwarnings('ignore')"
   ]
  },
  {
   "cell_type": "code",
   "execution_count": 2,
   "metadata": {},
   "outputs": [],
   "source": [
    "import warnings\n",
    "\n",
    "# This code is disabling warning messages from being displayed in the notebook\n",
    "# It imports the warnings module, which is a built-in Python module for handling warnings\n",
    "# Then it calls filterwarnings('ignore') which suppresses all warning messages\n",
    "# This is often done to keep the notebook clean, especially when using libraries \n",
    "# that might generate numerous warnings that aren't critical to the analysis\n",
    "\n",
    "warnings.filterwarnings('ignore')"
   ]
  },
  {
   "cell_type": "code",
   "execution_count": 3,
   "metadata": {},
   "outputs": [],
   "source": [
    "# Import the numpy and pandas packages\n",
    "\n",
    "import numpy as np\n",
    "import pandas as pd"
   ]
  },
  {
   "cell_type": "markdown",
   "metadata": {},
   "source": [
    "## Task 1: Reading and Inspection\n",
    "\n",
    "-  ### Subtask 1.1: Import and read\n",
    "\n",
    "Import and read the movie database. Store it in a variable called `movies`."
   ]
  },
  {
   "cell_type": "code",
   "execution_count": 4,
   "metadata": {},
   "outputs": [
    {
     "data": {
      "text/html": [
       "<div>\n",
       "<style scoped>\n",
       "    .dataframe tbody tr th:only-of-type {\n",
       "        vertical-align: middle;\n",
       "    }\n",
       "\n",
       "    .dataframe tbody tr th {\n",
       "        vertical-align: top;\n",
       "    }\n",
       "\n",
       "    .dataframe thead th {\n",
       "        text-align: right;\n",
       "    }\n",
       "</style>\n",
       "<table border=\"1\" class=\"dataframe\">\n",
       "  <thead>\n",
       "    <tr style=\"text-align: right;\">\n",
       "      <th></th>\n",
       "      <th>color</th>\n",
       "      <th>director_name</th>\n",
       "      <th>num_critic_for_reviews</th>\n",
       "      <th>duration</th>\n",
       "      <th>director_facebook_likes</th>\n",
       "      <th>actor_3_facebook_likes</th>\n",
       "      <th>actor_2_name</th>\n",
       "      <th>actor_1_facebook_likes</th>\n",
       "      <th>gross</th>\n",
       "      <th>genres</th>\n",
       "      <th>...</th>\n",
       "      <th>num_user_for_reviews</th>\n",
       "      <th>language</th>\n",
       "      <th>country</th>\n",
       "      <th>content_rating</th>\n",
       "      <th>budget</th>\n",
       "      <th>title_year</th>\n",
       "      <th>actor_2_facebook_likes</th>\n",
       "      <th>imdb_score</th>\n",
       "      <th>aspect_ratio</th>\n",
       "      <th>movie_facebook_likes</th>\n",
       "    </tr>\n",
       "  </thead>\n",
       "  <tbody>\n",
       "    <tr>\n",
       "      <th>0</th>\n",
       "      <td>Color</td>\n",
       "      <td>James Cameron</td>\n",
       "      <td>723.0</td>\n",
       "      <td>178.0</td>\n",
       "      <td>0.0</td>\n",
       "      <td>855.0</td>\n",
       "      <td>Joel David Moore</td>\n",
       "      <td>1000.0</td>\n",
       "      <td>760505847.0</td>\n",
       "      <td>Action|Adventure|Fantasy|Sci-Fi</td>\n",
       "      <td>...</td>\n",
       "      <td>3054.0</td>\n",
       "      <td>English</td>\n",
       "      <td>USA</td>\n",
       "      <td>PG-13</td>\n",
       "      <td>237000000.0</td>\n",
       "      <td>2009.0</td>\n",
       "      <td>936.0</td>\n",
       "      <td>7.9</td>\n",
       "      <td>1.78</td>\n",
       "      <td>33000</td>\n",
       "    </tr>\n",
       "    <tr>\n",
       "      <th>1</th>\n",
       "      <td>Color</td>\n",
       "      <td>Gore Verbinski</td>\n",
       "      <td>302.0</td>\n",
       "      <td>169.0</td>\n",
       "      <td>563.0</td>\n",
       "      <td>1000.0</td>\n",
       "      <td>Orlando Bloom</td>\n",
       "      <td>40000.0</td>\n",
       "      <td>309404152.0</td>\n",
       "      <td>Action|Adventure|Fantasy</td>\n",
       "      <td>...</td>\n",
       "      <td>1238.0</td>\n",
       "      <td>English</td>\n",
       "      <td>USA</td>\n",
       "      <td>PG-13</td>\n",
       "      <td>300000000.0</td>\n",
       "      <td>2007.0</td>\n",
       "      <td>5000.0</td>\n",
       "      <td>7.1</td>\n",
       "      <td>2.35</td>\n",
       "      <td>0</td>\n",
       "    </tr>\n",
       "    <tr>\n",
       "      <th>2</th>\n",
       "      <td>Color</td>\n",
       "      <td>Sam Mendes</td>\n",
       "      <td>602.0</td>\n",
       "      <td>148.0</td>\n",
       "      <td>0.0</td>\n",
       "      <td>161.0</td>\n",
       "      <td>Rory Kinnear</td>\n",
       "      <td>11000.0</td>\n",
       "      <td>200074175.0</td>\n",
       "      <td>Action|Adventure|Thriller</td>\n",
       "      <td>...</td>\n",
       "      <td>994.0</td>\n",
       "      <td>English</td>\n",
       "      <td>UK</td>\n",
       "      <td>PG-13</td>\n",
       "      <td>245000000.0</td>\n",
       "      <td>2015.0</td>\n",
       "      <td>393.0</td>\n",
       "      <td>6.8</td>\n",
       "      <td>2.35</td>\n",
       "      <td>85000</td>\n",
       "    </tr>\n",
       "    <tr>\n",
       "      <th>3</th>\n",
       "      <td>Color</td>\n",
       "      <td>Christopher Nolan</td>\n",
       "      <td>813.0</td>\n",
       "      <td>164.0</td>\n",
       "      <td>22000.0</td>\n",
       "      <td>23000.0</td>\n",
       "      <td>Christian Bale</td>\n",
       "      <td>27000.0</td>\n",
       "      <td>448130642.0</td>\n",
       "      <td>Action|Thriller</td>\n",
       "      <td>...</td>\n",
       "      <td>2701.0</td>\n",
       "      <td>English</td>\n",
       "      <td>USA</td>\n",
       "      <td>PG-13</td>\n",
       "      <td>250000000.0</td>\n",
       "      <td>2012.0</td>\n",
       "      <td>23000.0</td>\n",
       "      <td>8.5</td>\n",
       "      <td>2.35</td>\n",
       "      <td>164000</td>\n",
       "    </tr>\n",
       "    <tr>\n",
       "      <th>4</th>\n",
       "      <td>NaN</td>\n",
       "      <td>Doug Walker</td>\n",
       "      <td>NaN</td>\n",
       "      <td>NaN</td>\n",
       "      <td>131.0</td>\n",
       "      <td>NaN</td>\n",
       "      <td>Rob Walker</td>\n",
       "      <td>131.0</td>\n",
       "      <td>NaN</td>\n",
       "      <td>Documentary</td>\n",
       "      <td>...</td>\n",
       "      <td>NaN</td>\n",
       "      <td>NaN</td>\n",
       "      <td>NaN</td>\n",
       "      <td>NaN</td>\n",
       "      <td>NaN</td>\n",
       "      <td>NaN</td>\n",
       "      <td>12.0</td>\n",
       "      <td>7.1</td>\n",
       "      <td>NaN</td>\n",
       "      <td>0</td>\n",
       "    </tr>\n",
       "  </tbody>\n",
       "</table>\n",
       "<p>5 rows × 28 columns</p>\n",
       "</div>"
      ],
      "text/plain": [
       "   color      director_name  num_critic_for_reviews  duration  \\\n",
       "0  Color      James Cameron                   723.0     178.0   \n",
       "1  Color     Gore Verbinski                   302.0     169.0   \n",
       "2  Color         Sam Mendes                   602.0     148.0   \n",
       "3  Color  Christopher Nolan                   813.0     164.0   \n",
       "4    NaN        Doug Walker                     NaN       NaN   \n",
       "\n",
       "   director_facebook_likes  actor_3_facebook_likes      actor_2_name  \\\n",
       "0                      0.0                   855.0  Joel David Moore   \n",
       "1                    563.0                  1000.0     Orlando Bloom   \n",
       "2                      0.0                   161.0      Rory Kinnear   \n",
       "3                  22000.0                 23000.0    Christian Bale   \n",
       "4                    131.0                     NaN        Rob Walker   \n",
       "\n",
       "   actor_1_facebook_likes        gross                           genres  ...  \\\n",
       "0                  1000.0  760505847.0  Action|Adventure|Fantasy|Sci-Fi  ...   \n",
       "1                 40000.0  309404152.0         Action|Adventure|Fantasy  ...   \n",
       "2                 11000.0  200074175.0        Action|Adventure|Thriller  ...   \n",
       "3                 27000.0  448130642.0                  Action|Thriller  ...   \n",
       "4                   131.0          NaN                      Documentary  ...   \n",
       "\n",
       "  num_user_for_reviews language  country  content_rating       budget  \\\n",
       "0               3054.0  English      USA           PG-13  237000000.0   \n",
       "1               1238.0  English      USA           PG-13  300000000.0   \n",
       "2                994.0  English       UK           PG-13  245000000.0   \n",
       "3               2701.0  English      USA           PG-13  250000000.0   \n",
       "4                  NaN      NaN      NaN             NaN          NaN   \n",
       "\n",
       "   title_year actor_2_facebook_likes imdb_score  aspect_ratio  \\\n",
       "0      2009.0                  936.0        7.9          1.78   \n",
       "1      2007.0                 5000.0        7.1          2.35   \n",
       "2      2015.0                  393.0        6.8          2.35   \n",
       "3      2012.0                23000.0        8.5          2.35   \n",
       "4         NaN                   12.0        7.1           NaN   \n",
       "\n",
       "  movie_facebook_likes  \n",
       "0                33000  \n",
       "1                    0  \n",
       "2                85000  \n",
       "3               164000  \n",
       "4                    0  \n",
       "\n",
       "[5 rows x 28 columns]"
      ]
     },
     "execution_count": 4,
     "metadata": {},
     "output_type": "execute_result"
    }
   ],
   "source": [
    "movies = pd.read_csv(\"./2. Movie Assignment Data.csv\")\n",
    "movies.head()"
   ]
  },
  {
   "cell_type": "markdown",
   "metadata": {},
   "source": [
    "-  ### Subtask 1.2: Inspect the dataframe\n",
    "\n",
    "Inspect the dataframe's columns, shapes, variable types etc."
   ]
  },
  {
   "cell_type": "code",
   "execution_count": 5,
   "metadata": {},
   "outputs": [
    {
     "name": "stdout",
     "output_type": "stream",
     "text": [
      "<class 'pandas.core.frame.DataFrame'>\n",
      "RangeIndex: 5043 entries, 0 to 5042\n",
      "Data columns (total 28 columns):\n",
      " #   Column                     Non-Null Count  Dtype  \n",
      "---  ------                     --------------  -----  \n",
      " 0   color                      5024 non-null   object \n",
      " 1   director_name              4939 non-null   object \n",
      " 2   num_critic_for_reviews     4993 non-null   float64\n",
      " 3   duration                   5028 non-null   float64\n",
      " 4   director_facebook_likes    4939 non-null   float64\n",
      " 5   actor_3_facebook_likes     5020 non-null   float64\n",
      " 6   actor_2_name               5030 non-null   object \n",
      " 7   actor_1_facebook_likes     5036 non-null   float64\n",
      " 8   gross                      4159 non-null   float64\n",
      " 9   genres                     5043 non-null   object \n",
      " 10  actor_1_name               5036 non-null   object \n",
      " 11  movie_title                5043 non-null   object \n",
      " 12  num_voted_users            5043 non-null   int64  \n",
      " 13  cast_total_facebook_likes  5043 non-null   int64  \n",
      " 14  actor_3_name               5020 non-null   object \n",
      " 15  facenumber_in_poster       5030 non-null   float64\n",
      " 16  plot_keywords              4890 non-null   object \n",
      " 17  movie_imdb_link            5043 non-null   object \n",
      " 18  num_user_for_reviews       5022 non-null   float64\n",
      " 19  language                   5029 non-null   object \n",
      " 20  country                    5038 non-null   object \n",
      " 21  content_rating             4740 non-null   object \n",
      " 22  budget                     4551 non-null   float64\n",
      " 23  title_year                 4935 non-null   float64\n",
      " 24  actor_2_facebook_likes     5030 non-null   float64\n",
      " 25  imdb_score                 5043 non-null   float64\n",
      " 26  aspect_ratio               4714 non-null   float64\n",
      " 27  movie_facebook_likes       5043 non-null   int64  \n",
      "dtypes: float64(13), int64(3), object(12)\n",
      "memory usage: 1.1+ MB\n"
     ]
    },
    {
     "data": {
      "text/html": [
       "<div>\n",
       "<style scoped>\n",
       "    .dataframe tbody tr th:only-of-type {\n",
       "        vertical-align: middle;\n",
       "    }\n",
       "\n",
       "    .dataframe tbody tr th {\n",
       "        vertical-align: top;\n",
       "    }\n",
       "\n",
       "    .dataframe thead th {\n",
       "        text-align: right;\n",
       "    }\n",
       "</style>\n",
       "<table border=\"1\" class=\"dataframe\">\n",
       "  <thead>\n",
       "    <tr style=\"text-align: right;\">\n",
       "      <th></th>\n",
       "      <th>num_critic_for_reviews</th>\n",
       "      <th>duration</th>\n",
       "      <th>director_facebook_likes</th>\n",
       "      <th>actor_3_facebook_likes</th>\n",
       "      <th>actor_1_facebook_likes</th>\n",
       "      <th>gross</th>\n",
       "      <th>num_voted_users</th>\n",
       "      <th>cast_total_facebook_likes</th>\n",
       "      <th>facenumber_in_poster</th>\n",
       "      <th>num_user_for_reviews</th>\n",
       "      <th>budget</th>\n",
       "      <th>title_year</th>\n",
       "      <th>actor_2_facebook_likes</th>\n",
       "      <th>imdb_score</th>\n",
       "      <th>aspect_ratio</th>\n",
       "      <th>movie_facebook_likes</th>\n",
       "    </tr>\n",
       "  </thead>\n",
       "  <tbody>\n",
       "    <tr>\n",
       "      <th>count</th>\n",
       "      <td>4993.000000</td>\n",
       "      <td>5028.000000</td>\n",
       "      <td>4939.000000</td>\n",
       "      <td>5020.000000</td>\n",
       "      <td>5036.000000</td>\n",
       "      <td>4.159000e+03</td>\n",
       "      <td>5.043000e+03</td>\n",
       "      <td>5043.000000</td>\n",
       "      <td>5030.000000</td>\n",
       "      <td>5022.000000</td>\n",
       "      <td>4.551000e+03</td>\n",
       "      <td>4935.000000</td>\n",
       "      <td>5030.000000</td>\n",
       "      <td>5043.000000</td>\n",
       "      <td>4714.000000</td>\n",
       "      <td>5043.000000</td>\n",
       "    </tr>\n",
       "    <tr>\n",
       "      <th>mean</th>\n",
       "      <td>140.194272</td>\n",
       "      <td>107.201074</td>\n",
       "      <td>686.509212</td>\n",
       "      <td>645.009761</td>\n",
       "      <td>6560.047061</td>\n",
       "      <td>4.846841e+07</td>\n",
       "      <td>8.366816e+04</td>\n",
       "      <td>9699.063851</td>\n",
       "      <td>1.371173</td>\n",
       "      <td>272.770808</td>\n",
       "      <td>3.975262e+07</td>\n",
       "      <td>2002.470517</td>\n",
       "      <td>1651.754473</td>\n",
       "      <td>6.442138</td>\n",
       "      <td>2.220403</td>\n",
       "      <td>7525.964505</td>\n",
       "    </tr>\n",
       "    <tr>\n",
       "      <th>std</th>\n",
       "      <td>121.601675</td>\n",
       "      <td>25.197441</td>\n",
       "      <td>2813.328607</td>\n",
       "      <td>1665.041728</td>\n",
       "      <td>15020.759120</td>\n",
       "      <td>6.845299e+07</td>\n",
       "      <td>1.384853e+05</td>\n",
       "      <td>18163.799124</td>\n",
       "      <td>2.013576</td>\n",
       "      <td>377.982886</td>\n",
       "      <td>2.061149e+08</td>\n",
       "      <td>12.474599</td>\n",
       "      <td>4042.438863</td>\n",
       "      <td>1.125116</td>\n",
       "      <td>1.385113</td>\n",
       "      <td>19320.445110</td>\n",
       "    </tr>\n",
       "    <tr>\n",
       "      <th>min</th>\n",
       "      <td>1.000000</td>\n",
       "      <td>7.000000</td>\n",
       "      <td>0.000000</td>\n",
       "      <td>0.000000</td>\n",
       "      <td>0.000000</td>\n",
       "      <td>1.620000e+02</td>\n",
       "      <td>5.000000e+00</td>\n",
       "      <td>0.000000</td>\n",
       "      <td>0.000000</td>\n",
       "      <td>1.000000</td>\n",
       "      <td>2.180000e+02</td>\n",
       "      <td>1916.000000</td>\n",
       "      <td>0.000000</td>\n",
       "      <td>1.600000</td>\n",
       "      <td>1.180000</td>\n",
       "      <td>0.000000</td>\n",
       "    </tr>\n",
       "    <tr>\n",
       "      <th>25%</th>\n",
       "      <td>50.000000</td>\n",
       "      <td>93.000000</td>\n",
       "      <td>7.000000</td>\n",
       "      <td>133.000000</td>\n",
       "      <td>614.000000</td>\n",
       "      <td>5.340988e+06</td>\n",
       "      <td>8.593500e+03</td>\n",
       "      <td>1411.000000</td>\n",
       "      <td>0.000000</td>\n",
       "      <td>65.000000</td>\n",
       "      <td>6.000000e+06</td>\n",
       "      <td>1999.000000</td>\n",
       "      <td>281.000000</td>\n",
       "      <td>5.800000</td>\n",
       "      <td>1.850000</td>\n",
       "      <td>0.000000</td>\n",
       "    </tr>\n",
       "    <tr>\n",
       "      <th>50%</th>\n",
       "      <td>110.000000</td>\n",
       "      <td>103.000000</td>\n",
       "      <td>49.000000</td>\n",
       "      <td>371.500000</td>\n",
       "      <td>988.000000</td>\n",
       "      <td>2.551750e+07</td>\n",
       "      <td>3.435900e+04</td>\n",
       "      <td>3090.000000</td>\n",
       "      <td>1.000000</td>\n",
       "      <td>156.000000</td>\n",
       "      <td>2.000000e+07</td>\n",
       "      <td>2005.000000</td>\n",
       "      <td>595.000000</td>\n",
       "      <td>6.600000</td>\n",
       "      <td>2.350000</td>\n",
       "      <td>166.000000</td>\n",
       "    </tr>\n",
       "    <tr>\n",
       "      <th>75%</th>\n",
       "      <td>195.000000</td>\n",
       "      <td>118.000000</td>\n",
       "      <td>194.500000</td>\n",
       "      <td>636.000000</td>\n",
       "      <td>11000.000000</td>\n",
       "      <td>6.230944e+07</td>\n",
       "      <td>9.630900e+04</td>\n",
       "      <td>13756.500000</td>\n",
       "      <td>2.000000</td>\n",
       "      <td>326.000000</td>\n",
       "      <td>4.500000e+07</td>\n",
       "      <td>2011.000000</td>\n",
       "      <td>918.000000</td>\n",
       "      <td>7.200000</td>\n",
       "      <td>2.350000</td>\n",
       "      <td>3000.000000</td>\n",
       "    </tr>\n",
       "    <tr>\n",
       "      <th>max</th>\n",
       "      <td>813.000000</td>\n",
       "      <td>511.000000</td>\n",
       "      <td>23000.000000</td>\n",
       "      <td>23000.000000</td>\n",
       "      <td>640000.000000</td>\n",
       "      <td>7.605058e+08</td>\n",
       "      <td>1.689764e+06</td>\n",
       "      <td>656730.000000</td>\n",
       "      <td>43.000000</td>\n",
       "      <td>5060.000000</td>\n",
       "      <td>1.221550e+10</td>\n",
       "      <td>2016.000000</td>\n",
       "      <td>137000.000000</td>\n",
       "      <td>9.500000</td>\n",
       "      <td>16.000000</td>\n",
       "      <td>349000.000000</td>\n",
       "    </tr>\n",
       "  </tbody>\n",
       "</table>\n",
       "</div>"
      ],
      "text/plain": [
       "       num_critic_for_reviews     duration  director_facebook_likes  \\\n",
       "count             4993.000000  5028.000000              4939.000000   \n",
       "mean               140.194272   107.201074               686.509212   \n",
       "std                121.601675    25.197441              2813.328607   \n",
       "min                  1.000000     7.000000                 0.000000   \n",
       "25%                 50.000000    93.000000                 7.000000   \n",
       "50%                110.000000   103.000000                49.000000   \n",
       "75%                195.000000   118.000000               194.500000   \n",
       "max                813.000000   511.000000             23000.000000   \n",
       "\n",
       "       actor_3_facebook_likes  actor_1_facebook_likes         gross  \\\n",
       "count             5020.000000             5036.000000  4.159000e+03   \n",
       "mean               645.009761             6560.047061  4.846841e+07   \n",
       "std               1665.041728            15020.759120  6.845299e+07   \n",
       "min                  0.000000                0.000000  1.620000e+02   \n",
       "25%                133.000000              614.000000  5.340988e+06   \n",
       "50%                371.500000              988.000000  2.551750e+07   \n",
       "75%                636.000000            11000.000000  6.230944e+07   \n",
       "max              23000.000000           640000.000000  7.605058e+08   \n",
       "\n",
       "       num_voted_users  cast_total_facebook_likes  facenumber_in_poster  \\\n",
       "count     5.043000e+03                5043.000000           5030.000000   \n",
       "mean      8.366816e+04                9699.063851              1.371173   \n",
       "std       1.384853e+05               18163.799124              2.013576   \n",
       "min       5.000000e+00                   0.000000              0.000000   \n",
       "25%       8.593500e+03                1411.000000              0.000000   \n",
       "50%       3.435900e+04                3090.000000              1.000000   \n",
       "75%       9.630900e+04               13756.500000              2.000000   \n",
       "max       1.689764e+06              656730.000000             43.000000   \n",
       "\n",
       "       num_user_for_reviews        budget   title_year  \\\n",
       "count           5022.000000  4.551000e+03  4935.000000   \n",
       "mean             272.770808  3.975262e+07  2002.470517   \n",
       "std              377.982886  2.061149e+08    12.474599   \n",
       "min                1.000000  2.180000e+02  1916.000000   \n",
       "25%               65.000000  6.000000e+06  1999.000000   \n",
       "50%              156.000000  2.000000e+07  2005.000000   \n",
       "75%              326.000000  4.500000e+07  2011.000000   \n",
       "max             5060.000000  1.221550e+10  2016.000000   \n",
       "\n",
       "       actor_2_facebook_likes   imdb_score  aspect_ratio  movie_facebook_likes  \n",
       "count             5030.000000  5043.000000   4714.000000           5043.000000  \n",
       "mean              1651.754473     6.442138      2.220403           7525.964505  \n",
       "std               4042.438863     1.125116      1.385113          19320.445110  \n",
       "min                  0.000000     1.600000      1.180000              0.000000  \n",
       "25%                281.000000     5.800000      1.850000              0.000000  \n",
       "50%                595.000000     6.600000      2.350000            166.000000  \n",
       "75%                918.000000     7.200000      2.350000           3000.000000  \n",
       "max             137000.000000     9.500000     16.000000         349000.000000  "
      ]
     },
     "execution_count": 5,
     "metadata": {},
     "output_type": "execute_result"
    }
   ],
   "source": [
    "# Write your code for inspection here\n",
    "movies.info()  # display the data types and non-null counts\n",
    "movies.describe()  # display summary statistics for numerical columns"
   ]
  },
  {
   "cell_type": "code",
   "execution_count": 6,
   "metadata": {},
   "outputs": [
    {
     "name": "stdout",
     "output_type": "stream",
     "text": [
      "\n",
      "DataFrame Shape:\n",
      "--------------\n",
      "Rows: 5043\n",
      "Columns: 28\n"
     ]
    }
   ],
   "source": [
    "# Display DataFrame shape (rows, columns)\n",
    "print(\"\\nDataFrame Shape:\")\n",
    "print(\"--------------\")\n",
    "print(f\"Rows: {movies.shape[0]}\")\n",
    "print(f\"Columns: {movies.shape[1]}\")"
   ]
  },
  {
   "cell_type": "code",
   "execution_count": 7,
   "metadata": {},
   "outputs": [
    {
     "name": "stdout",
     "output_type": "stream",
     "text": [
      "\n",
      "Column Names and Data Types:\n",
      "--------------------------\n",
      "color                         object\n",
      "director_name                 object\n",
      "num_critic_for_reviews       float64\n",
      "duration                     float64\n",
      "director_facebook_likes      float64\n",
      "actor_3_facebook_likes       float64\n",
      "actor_2_name                  object\n",
      "actor_1_facebook_likes       float64\n",
      "gross                        float64\n",
      "genres                        object\n",
      "actor_1_name                  object\n",
      "movie_title                   object\n",
      "num_voted_users                int64\n",
      "cast_total_facebook_likes      int64\n",
      "actor_3_name                  object\n",
      "facenumber_in_poster         float64\n",
      "plot_keywords                 object\n",
      "movie_imdb_link               object\n",
      "num_user_for_reviews         float64\n",
      "language                      object\n",
      "country                       object\n",
      "content_rating                object\n",
      "budget                       float64\n",
      "title_year                   float64\n",
      "actor_2_facebook_likes       float64\n",
      "imdb_score                   float64\n",
      "aspect_ratio                 float64\n",
      "movie_facebook_likes           int64\n",
      "dtype: object\n"
     ]
    }
   ],
   "source": [
    "# Display column names and data types\n",
    "print(\"\\nColumn Names and Data Types:\")\n",
    "print(\"--------------------------\")\n",
    "print(movies.dtypes)"
   ]
  },
  {
   "cell_type": "code",
   "execution_count": 8,
   "metadata": {},
   "outputs": [
    {
     "name": "stdout",
     "output_type": "stream",
     "text": [
      "\n",
      "Numerical Columns Statistics:\n",
      "--------------------------\n",
      "       num_critic_for_reviews     duration  director_facebook_likes  \\\n",
      "count             4993.000000  5028.000000              4939.000000   \n",
      "mean               140.194272   107.201074               686.509212   \n",
      "std                121.601675    25.197441              2813.328607   \n",
      "min                  1.000000     7.000000                 0.000000   \n",
      "25%                 50.000000    93.000000                 7.000000   \n",
      "50%                110.000000   103.000000                49.000000   \n",
      "75%                195.000000   118.000000               194.500000   \n",
      "max                813.000000   511.000000             23000.000000   \n",
      "\n",
      "       actor_3_facebook_likes  actor_1_facebook_likes         gross  \\\n",
      "count             5020.000000             5036.000000  4.159000e+03   \n",
      "mean               645.009761             6560.047061  4.846841e+07   \n",
      "std               1665.041728            15020.759120  6.845299e+07   \n",
      "min                  0.000000                0.000000  1.620000e+02   \n",
      "25%                133.000000              614.000000  5.340988e+06   \n",
      "50%                371.500000              988.000000  2.551750e+07   \n",
      "75%                636.000000            11000.000000  6.230944e+07   \n",
      "max              23000.000000           640000.000000  7.605058e+08   \n",
      "\n",
      "       num_voted_users  cast_total_facebook_likes  facenumber_in_poster  \\\n",
      "count     5.043000e+03                5043.000000           5030.000000   \n",
      "mean      8.366816e+04                9699.063851              1.371173   \n",
      "std       1.384853e+05               18163.799124              2.013576   \n",
      "min       5.000000e+00                   0.000000              0.000000   \n",
      "25%       8.593500e+03                1411.000000              0.000000   \n",
      "50%       3.435900e+04                3090.000000              1.000000   \n",
      "75%       9.630900e+04               13756.500000              2.000000   \n",
      "max       1.689764e+06              656730.000000             43.000000   \n",
      "\n",
      "       num_user_for_reviews        budget   title_year  \\\n",
      "count           5022.000000  4.551000e+03  4935.000000   \n",
      "mean             272.770808  3.975262e+07  2002.470517   \n",
      "std              377.982886  2.061149e+08    12.474599   \n",
      "min                1.000000  2.180000e+02  1916.000000   \n",
      "25%               65.000000  6.000000e+06  1999.000000   \n",
      "50%              156.000000  2.000000e+07  2005.000000   \n",
      "75%              326.000000  4.500000e+07  2011.000000   \n",
      "max             5060.000000  1.221550e+10  2016.000000   \n",
      "\n",
      "       actor_2_facebook_likes   imdb_score  aspect_ratio  movie_facebook_likes  \n",
      "count             5030.000000  5043.000000   4714.000000           5043.000000  \n",
      "mean              1651.754473     6.442138      2.220403           7525.964505  \n",
      "std               4042.438863     1.125116      1.385113          19320.445110  \n",
      "min                  0.000000     1.600000      1.180000              0.000000  \n",
      "25%                281.000000     5.800000      1.850000              0.000000  \n",
      "50%                595.000000     6.600000      2.350000            166.000000  \n",
      "75%                918.000000     7.200000      2.350000           3000.000000  \n",
      "max             137000.000000     9.500000     16.000000         349000.000000  \n"
     ]
    }
   ],
   "source": [
    "# Display basic statistics of numerical columns\n",
    "print(\"\\nNumerical Columns Statistics:\")\n",
    "print(\"--------------------------\")\n",
    "print(movies.describe())"
   ]
  },
  {
   "cell_type": "markdown",
   "metadata": {},
   "source": [
    "## Task 2: Cleaning the Data\n",
    "\n",
    "-  ### Subtask 2.1: Inspect Null values\n",
    "\n",
    "Find out the number of Null values in all the columns and rows. Also, find the percentage of Null values in each column. Round off the percentages upto two decimal places."
   ]
  },
  {
   "cell_type": "code",
   "execution_count": 9,
   "metadata": {},
   "outputs": [
    {
     "name": "stdout",
     "output_type": "stream",
     "text": [
      "Column-wise Null Count:\n",
      "--------------------------\n"
     ]
    },
    {
     "data": {
      "text/plain": [
       "color                         19\n",
       "director_name                104\n",
       "num_critic_for_reviews        50\n",
       "duration                      15\n",
       "director_facebook_likes      104\n",
       "actor_3_facebook_likes        23\n",
       "actor_2_name                  13\n",
       "actor_1_facebook_likes         7\n",
       "gross                        884\n",
       "genres                         0\n",
       "actor_1_name                   7\n",
       "movie_title                    0\n",
       "num_voted_users                0\n",
       "cast_total_facebook_likes      0\n",
       "actor_3_name                  23\n",
       "facenumber_in_poster          13\n",
       "plot_keywords                153\n",
       "movie_imdb_link                0\n",
       "num_user_for_reviews          21\n",
       "language                      14\n",
       "country                        5\n",
       "content_rating               303\n",
       "budget                       492\n",
       "title_year                   108\n",
       "actor_2_facebook_likes        13\n",
       "imdb_score                     0\n",
       "aspect_ratio                 329\n",
       "movie_facebook_likes           0\n",
       "dtype: int64"
      ]
     },
     "execution_count": 9,
     "metadata": {},
     "output_type": "execute_result"
    }
   ],
   "source": [
    "# Write your code for column-wise null count here\n",
    "print(\"Column-wise Null Count:\")\n",
    "print(\"--------------------------\")\n",
    "movies.isnull().sum()  # Count null values in each column using isnull().sum()"
   ]
  },
  {
   "cell_type": "code",
   "execution_count": 10,
   "metadata": {},
   "outputs": [
    {
     "name": "stdout",
     "output_type": "stream",
     "text": [
      "\n",
      "Row-wise Null Count:\n",
      "--------------------------\n",
      "Total rows with null values: 1288\n",
      "Maximum nulls in a single row: 15\n"
     ]
    }
   ],
   "source": [
    "# Write your code for row-wise null count here\n",
    "print(\"\\nRow-wise Null Count:\")  # display null counts for each row\n",
    "print(\"--------------------------\")\n",
    "row_null_count = movies.isnull().sum(axis=1) # count nulls in each row\n",
    "print(f\"Total rows with null values: {(row_null_count > 0).sum()}\") # count rows with nulls\n",
    "print(f\"Maximum nulls in a single row: {row_null_count.max()}\") # count max nulls in a row"
   ]
  },
  {
   "cell_type": "code",
   "execution_count": 11,
   "metadata": {},
   "outputs": [
    {
     "name": "stdout",
     "output_type": "stream",
     "text": [
      "\n",
      "Percentage of Null Values in Each Column:\n",
      "------------------------------------\n",
      "color: 0.38%\n",
      "director_name: 2.06%\n",
      "num_critic_for_reviews: 0.99%\n",
      "duration: 0.3%\n",
      "director_facebook_likes: 2.06%\n",
      "actor_3_facebook_likes: 0.46%\n",
      "actor_2_name: 0.26%\n",
      "actor_1_facebook_likes: 0.14%\n",
      "gross: 17.53%\n",
      "genres: 0.0%\n",
      "actor_1_name: 0.14%\n",
      "movie_title: 0.0%\n",
      "num_voted_users: 0.0%\n",
      "cast_total_facebook_likes: 0.0%\n",
      "actor_3_name: 0.46%\n",
      "facenumber_in_poster: 0.26%\n",
      "plot_keywords: 3.03%\n",
      "movie_imdb_link: 0.0%\n",
      "num_user_for_reviews: 0.42%\n",
      "language: 0.28%\n",
      "country: 0.1%\n",
      "content_rating: 6.01%\n",
      "budget: 9.76%\n",
      "title_year: 2.14%\n",
      "actor_2_facebook_likes: 0.26%\n",
      "imdb_score: 0.0%\n",
      "aspect_ratio: 6.52%\n",
      "movie_facebook_likes: 0.0%\n"
     ]
    }
   ],
   "source": [
    "# Write your code for column-wise null percentages here\n",
    "print(\"\\nPercentage of Null Values in Each Column:\")\n",
    "print(\"------------------------------------\")\n",
    "null_percentage = (movies.isnull().sum() / len(movies) * 100).round(2)  # calculate percentage of nulls\n",
    "for column, percentage in null_percentage.items():  # iterate through each column and its null percentage\n",
    "        print(f\"{column}: {percentage}%\") # display percentage of nulls in each column"
   ]
  },
  {
   "cell_type": "markdown",
   "metadata": {},
   "source": [
    "-  ### Subtask 2.2: Drop unecessary columns\n",
    "\n",
    "For this assignment, you will mostly be analyzing the ``movies`` with respect to the ``ratings,`` ``gross collection``, ``popularity`` of movies, etc. So many of the columns in this dataframe are not required. So it is advised to drop the following columns.\n",
    "-  color\n",
    "-  director_facebook_likes\n",
    "-  actor_1_facebook_likes\n",
    "-  actor_2_facebook_likes\n",
    "-  actor_3_facebook_likes\n",
    "-  actor_2_name\n",
    "-  cast_total_facebook_likes\n",
    "-  actor_3_name\n",
    "-  duration\n",
    "-  facenumber_in_poster\n",
    "-  content_rating\n",
    "-  country\n",
    "-  movie_imdb_link\n",
    "-  aspect_ratio\n",
    "-  plot_keywords"
   ]
  },
  {
   "cell_type": "code",
   "execution_count": 12,
   "metadata": {},
   "outputs": [
    {
     "name": "stdout",
     "output_type": "stream",
     "text": [
      "Available columns in DataFrame:\n",
      "['color', 'director_name', 'num_critic_for_reviews', 'duration', 'director_facebook_likes', 'actor_3_facebook_likes', 'actor_2_name', 'actor_1_facebook_likes', 'gross', 'genres', 'actor_1_name', 'movie_title', 'num_voted_users', 'cast_total_facebook_likes', 'actor_3_name', 'facenumber_in_poster', 'plot_keywords', 'movie_imdb_link', 'num_user_for_reviews', 'language', 'country', 'content_rating', 'budget', 'title_year', 'actor_2_facebook_likes', 'imdb_score', 'aspect_ratio', 'movie_facebook_likes']\n",
      "\n",
      "Remaining Columns After Dropping:\n",
      "['director_name', 'num_critic_for_reviews', 'gross', 'genres', 'actor_1_name', 'movie_title', 'num_voted_users', 'num_user_for_reviews', 'language', 'budget', 'title_year', 'imdb_score', 'movie_facebook_likes']\n"
     ]
    }
   ],
   "source": [
    "# First, let's see what columns we actually have\n",
    "print(\"Available columns in DataFrame:\")\n",
    "print(movies.columns.tolist())\n",
    "\n",
    "# Create list of columns to drop\n",
    "columns_to_drop = ['color', 'director_facebook_likes', 'actor_1_facebook_likes', \n",
    "                   'actor_2_facebook_likes', 'actor_3_facebook_likes', \n",
    "                   'actor_2_name', 'actor_3_name', 'cast_total_facebook_likes',\n",
    "                   'duration', 'facenumber_in_poster', 'content_rating',\n",
    "                   'country', 'movie_imdb_link', 'aspect_ratio', 'plot_keywords']\n",
    "\n",
    "# Drop only the columns that exist\n",
    "existing_columns = [col for col in columns_to_drop if col in movies.columns]\n",
    "movies.drop(columns=existing_columns, inplace=True)\n",
    "\n",
    "# Verify remaining columns\n",
    "print(\"\\nRemaining Columns After Dropping:\")\n",
    "print(movies.columns.tolist())"
   ]
  },
  {
   "cell_type": "code",
   "execution_count": 13,
   "metadata": {},
   "outputs": [
    {
     "name": "stdout",
     "output_type": "stream",
     "text": [
      "\n",
      "Percentage of Null Values in Each Column:\n",
      "------------------------------------\n",
      "director_name: 2.06%\n",
      "num_critic_for_reviews: 0.99%\n",
      "gross: 17.53%\n",
      "genres: 0.0%\n",
      "actor_1_name: 0.14%\n",
      "movie_title: 0.0%\n",
      "num_voted_users: 0.0%\n",
      "num_user_for_reviews: 0.42%\n",
      "language: 0.28%\n",
      "budget: 9.76%\n",
      "title_year: 2.14%\n",
      "imdb_score: 0.0%\n",
      "movie_facebook_likes: 0.0%\n"
     ]
    }
   ],
   "source": [
    "# Write your code for column-wise null percentages here\n",
    "print(\"\\nPercentage of Null Values in Each Column:\")\n",
    "print(\"------------------------------------\")\n",
    "null_percentage = (movies.isnull().sum() / len(movies) * 100).round(2)  # calculate percentage of nulls\n",
    "for column, percentage in null_percentage.items():  # iterate through each column and its null percentage\n",
    "        print(f\"{column}: {percentage}%\") # display percentage of nulls in each column"
   ]
  },
  {
   "cell_type": "markdown",
   "metadata": {},
   "source": [
    "-  ### Subtask 2.3: Drop unecessary rows using columns with high Null percentages\n",
    "\n",
    "Now, on inspection you might notice that some columns have large percentage (greater than 5%) of Null values. Drop all the rows which have Null values for such columns."
   ]
  },
  {
   "cell_type": "code",
   "execution_count": 14,
   "metadata": {},
   "outputs": [
    {
     "name": "stdout",
     "output_type": "stream",
     "text": [
      "Columns with >5% null values that will be dropped:\n",
      "- gross:  17.53 % \n",
      "- budget:  9.76 % \n"
     ]
    }
   ],
   "source": [
    "# Write your code for dropping the rows here\n",
    "columns_to_drop = null_percentage[null_percentage > 5].index.tolist() # get columns with more than 5% nulls\n",
    "\n",
    "# Print columns that will be dropped\n",
    "print(\"Columns with >5% null values that will be dropped:\")\n",
    "for col in columns_to_drop:\n",
    "        print(f\"- {col}: {null_percentage[col]: .2f} % \")"
   ]
  },
  {
   "cell_type": "code",
   "execution_count": 15,
   "metadata": {},
   "outputs": [
    {
     "name": "stdout",
     "output_type": "stream",
     "text": [
      "\n",
      "Percentage of Null Values in Each Column:\n",
      "------------------------------------\n",
      "director_name: 2.06%\n",
      "num_critic_for_reviews: 0.99%\n",
      "gross: 17.53%\n",
      "genres: 0.0%\n",
      "actor_1_name: 0.14%\n",
      "movie_title: 0.0%\n",
      "num_voted_users: 0.0%\n",
      "num_user_for_reviews: 0.42%\n",
      "language: 0.28%\n",
      "budget: 9.76%\n",
      "title_year: 2.14%\n",
      "imdb_score: 0.0%\n",
      "movie_facebook_likes: 0.0%\n"
     ]
    }
   ],
   "source": [
    "# Write your code for column-wise null percentages here\n",
    "print(\"\\nPercentage of Null Values in Each Column:\")\n",
    "print(\"------------------------------------\")\n",
    "null_percentage = (movies.isnull().sum() / len(movies) * 100).round(2)  # calculate percentage of nulls\n",
    "for column, percentage in null_percentage.items():  # iterate through each column and its null percentage\n",
    "        print(f\"{column}: {percentage}%\") # display percentage of nulls in each column"
   ]
  },
  {
   "cell_type": "code",
   "execution_count": 16,
   "metadata": {},
   "outputs": [
    {
     "name": "stdout",
     "output_type": "stream",
     "text": [
      "director_name             104\n",
      "num_critic_for_reviews     50\n",
      "gross                     884\n",
      "genres                      0\n",
      "actor_1_name                7\n",
      "movie_title                 0\n",
      "num_voted_users             0\n",
      "num_user_for_reviews       21\n",
      "language                   14\n",
      "budget                    492\n",
      "title_year                108\n",
      "imdb_score                  0\n",
      "movie_facebook_likes        0\n",
      "dtype: int64\n"
     ]
    }
   ],
   "source": [
    "print(movies.isnull().sum()) # display null counts for each column\n",
    "\n",
    "# print((movies.isnull().sum() / len(movies) * 100).round(2)) # display percentage of nulls in each column"
   ]
  },
  {
   "cell_type": "markdown",
   "metadata": {},
   "source": [
    "-  ### Subtask 2.4: Fill NaN values\n",
    "\n",
    "You might notice that the `language` column has some NaN values. Here, on inspection, you will see that it is safe to replace all the missing values with `'English'`."
   ]
  },
  {
   "cell_type": "code",
   "execution_count": 17,
   "metadata": {},
   "outputs": [],
   "source": [
    "# Write your code for filling the NaN values in the 'language' column here\n",
    "movies['language'].fillna('English', inplace=True)  # fill NaN values in 'language' column with 'English'\n",
    "movies['director_name'].fillna('Unknown', inplace = True) # fill NaN values in 'director_name' column with 'Unknown'\n",
    "movies['num_critic_for_reviews'].fillna('0', inplace = True) # fill NaN values in 'num_critic_for_reviews' column with 0\n",
    "movies['num_user_for_reviews'].fillna('0', inplace = True) # fill NaN values in 'num_user_for_reviews' column with 0\n",
    "movies['title_year'].fillna('0', inplace = True) # fill NaN values in 'title_year' column with 0\n"
   ]
  },
  {
   "cell_type": "code",
   "execution_count": 18,
   "metadata": {},
   "outputs": [
    {
     "name": "stdout",
     "output_type": "stream",
     "text": [
      "director_name               0\n",
      "num_critic_for_reviews      0\n",
      "gross                     884\n",
      "genres                      0\n",
      "actor_1_name                7\n",
      "movie_title                 0\n",
      "num_voted_users             0\n",
      "num_user_for_reviews        0\n",
      "language                    0\n",
      "budget                    492\n",
      "title_year                  0\n",
      "imdb_score                  0\n",
      "movie_facebook_likes        0\n",
      "dtype: int64\n"
     ]
    }
   ],
   "source": [
    "print(movies.isnull().sum()) # display null counts for each column"
   ]
  },
  {
   "cell_type": "code",
   "execution_count": 19,
   "metadata": {},
   "outputs": [
    {
     "name": "stdout",
     "output_type": "stream",
     "text": [
      "Row Retention Summary:\n",
      "------------------------------\n",
      "Initial number of rows: 5043\n",
      "Current number of rows: 5043\n",
      "Retained rows percentage: 100.0%\n"
     ]
    }
   ],
   "source": [
    "# Get initial and current row counts\n",
    "initial_rows = len(movies)\n",
    "current_rows = movies.shape[0]\n",
    "\n",
    "# Calculate percentage with proper rounding\n",
    "retention_percentage = round((current_rows / initial_rows * 100), 2)\n",
    "\n",
    "# Print the results\n",
    "print(\"Row Retention Summary:\")\n",
    "print(\"-\" * 30)\n",
    "print(f\"Initial number of rows: {initial_rows}\")\n",
    "print(f\"Current number of rows: {current_rows}\")\n",
    "print(f\"Retained rows percentage: {retention_percentage}%\")"
   ]
  },
  {
   "cell_type": "markdown",
   "metadata": {},
   "source": [
    "-  ### Subtask 2.5: Check the number of retained rows\n",
    "\n",
    "You might notice that two of the columns viz. `num_critic_for_reviews` and `actor_1_name` have small percentages of NaN values left. You can let these columns as it is for now. Check the number and percentage of the rows retained after completing all the tasks above."
   ]
  },
  {
   "cell_type": "code",
   "execution_count": 20,
   "metadata": {},
   "outputs": [
    {
     "name": "stdout",
     "output_type": "stream",
     "text": [
      "\n",
      "Percentage of Null Values in Each Column:\n",
      "------------------------------------\n",
      "director_name: 0.0%\n",
      "num_critic_for_reviews: 0.0%\n",
      "gross: 17.53%\n",
      "genres: 0.0%\n",
      "actor_1_name: 0.14%\n",
      "movie_title: 0.0%\n",
      "num_voted_users: 0.0%\n",
      "num_user_for_reviews: 0.0%\n",
      "language: 0.0%\n",
      "budget: 9.76%\n",
      "title_year: 0.0%\n",
      "imdb_score: 0.0%\n",
      "movie_facebook_likes: 0.0%\n"
     ]
    }
   ],
   "source": [
    "# Write your code for checking number of retained rows here\n",
    "# Write your code for column-wise null percentages here\n",
    "print(\"\\nPercentage of Null Values in Each Column:\")\n",
    "print(\"------------------------------------\")\n",
    "null_percentage = (movies.isnull().sum() / len(movies) * 100).round(2)  # calculate percentage of nulls\n",
    "for column, percentage in null_percentage.items():  # iterate through each column and its null percentage\n",
    "        print(f\"{column}: {percentage}%\") # display percentage of nulls in each column"
   ]
  },
  {
   "cell_type": "markdown",
   "metadata": {},
   "source": [
    "**Checkpoint 1:** You might have noticed that we still have around `77%` of the rows!"
   ]
  },
  {
   "cell_type": "markdown",
   "metadata": {},
   "source": [
    "## Task 3: Data Analysis\n",
    "\n",
    "-  ### Subtask 3.1: Change the unit of columns\n",
    "\n",
    "Convert the unit of the `budget` and `gross` columns from `$` to `million $`."
   ]
  },
  {
   "cell_type": "code",
   "execution_count": 21,
   "metadata": {},
   "outputs": [
    {
     "name": "stdout",
     "output_type": "stream",
     "text": [
      "Sample of original values:\n",
      "------------------------------\n",
      "        budget        gross\n",
      "0  237000000.0  760505847.0\n",
      "1  300000000.0  309404152.0\n",
      "2  245000000.0  200074175.0\n",
      "3  250000000.0  448130642.0\n",
      "4          NaN          NaN\n",
      "\n",
      "Basic statistics:\n",
      "------------------------------\n",
      "             budget         gross\n",
      "count  4.551000e+03  4.159000e+03\n",
      "mean   3.975262e+07  4.846841e+07\n",
      "std    2.061149e+08  6.845299e+07\n",
      "min    2.180000e+02  1.620000e+02\n",
      "25%    6.000000e+06  5.340988e+06\n",
      "50%    2.000000e+07  2.551750e+07\n",
      "75%    4.500000e+07  6.230944e+07\n",
      "max    1.221550e+10  7.605058e+08\n",
      "\n",
      "Sample of unique values in budget:\n",
      "------------------------------\n",
      "[2.37e+08 3.00e+08 2.45e+08 2.50e+08      nan]\n",
      "\n",
      "Sample of unique values in gross:\n",
      "------------------------------\n",
      "[7.60505847e+08 3.09404152e+08 2.00074175e+08 4.48130642e+08\n",
      "            nan]\n"
     ]
    }
   ],
   "source": [
    "# Display first few rows of budget and gross columns\n",
    "print(\"Sample of original values:\")\n",
    "print(\"-\" * 30)\n",
    "print(movies[['budget', 'gross']].head())\n",
    "\n",
    "# Display basic statistics\n",
    "print(\"\\nBasic statistics:\")\n",
    "print(\"-\" * 30)\n",
    "print(movies[['budget', 'gross']].describe())\n",
    "\n",
    "# Check unique values (first 5) to understand the format\n",
    "print(\"\\nSample of unique values in budget:\")\n",
    "print(\"-\" * 30)\n",
    "print(movies['budget'].unique()[:5])\n",
    "print(\"\\nSample of unique values in gross:\")\n",
    "print(\"-\" * 30)\n",
    "print(movies['gross'].unique()[:5])"
   ]
  },
  {
   "cell_type": "code",
   "execution_count": 22,
   "metadata": {},
   "outputs": [
    {
     "name": "stdout",
     "output_type": "stream",
     "text": [
      "Sample of converted values (in millions):\n",
      "   budget       gross\n",
      "0   237.0  760.505847\n",
      "1   300.0  309.404152\n",
      "2   245.0  200.074175\n",
      "3   250.0  448.130642\n",
      "4     NaN         NaN\n"
     ]
    }
   ],
   "source": [
    "# Convert currency columns to numeric by removing $ and , then convert to millions\n",
    "movies['budget'] = movies['budget'].replace('[\\$,]', '', regex=True).astype(float) / 1_000_000\n",
    "movies['gross'] = movies['gross'].replace('[\\$,]', '', regex=True).astype(float) / 1_000_000\n",
    "\n",
    "# Verify the conversion\n",
    "print(\"Sample of converted values (in millions):\")\n",
    "print(movies[['budget', 'gross']].head())"
   ]
  },
  {
   "cell_type": "markdown",
   "metadata": {},
   "source": [
    "-  ### Subtask 3.2: Find the movies with highest profit\n",
    "\n",
    "    1. Create a new column called `profit` which contains the difference of the two columns: `gross` and `budget`.\n",
    "    2. Sort the dataframe using the `profit` column as reference.\n",
    "    3. Plot `profit` (y-axis) vs `budget` (x- axis) and observe the outliers using the appropriate chart type.\n",
    "    4. Extract the top ten profiting movies in descending order and store them in a new dataframe - `top10`"
   ]
  },
  {
   "cell_type": "code",
   "execution_count": 23,
   "metadata": {},
   "outputs": [
    {
     "name": "stdout",
     "output_type": "stream",
     "text": [
      "First few rows with profit column:\n",
      "------------------------------\n",
      "                                         movie_title  budget       gross  \\\n",
      "0                                            Avatar    237.0  760.505847   \n",
      "1          Pirates of the Caribbean: At World's End    300.0  309.404152   \n",
      "2                                           Spectre    245.0  200.074175   \n",
      "3                             The Dark Knight Rises    250.0  448.130642   \n",
      "4  Star Wars: Episode VII - The Force Awakens    ...     NaN         NaN   \n",
      "\n",
      "       profit  \n",
      "0  523.505847  \n",
      "1    9.404152  \n",
      "2  -44.925825  \n",
      "3  198.130642  \n",
      "4         NaN  \n"
     ]
    }
   ],
   "source": [
    "# Write your code for creating the profit column here\n",
    "# Create profit column\n",
    "movies['profit'] = movies['gross'] - movies['budget']\n",
    "\n",
    "# Display first few rows of the profit column\n",
    "print(\"First few rows with profit column:\")\n",
    "print(\"-\" * 30)\n",
    "print(movies[['movie_title', 'budget', 'gross', 'profit']].head())"
   ]
  },
  {
   "cell_type": "code",
   "execution_count": 38,
   "metadata": {},
   "outputs": [
    {
     "data": {
      "text/html": [
       "<div>\n",
       "<style scoped>\n",
       "    .dataframe tbody tr th:only-of-type {\n",
       "        vertical-align: middle;\n",
       "    }\n",
       "\n",
       "    .dataframe tbody tr th {\n",
       "        vertical-align: top;\n",
       "    }\n",
       "\n",
       "    .dataframe thead th {\n",
       "        text-align: right;\n",
       "    }\n",
       "</style>\n",
       "<table border=\"1\" class=\"dataframe\">\n",
       "  <thead>\n",
       "    <tr style=\"text-align: right;\">\n",
       "      <th></th>\n",
       "      <th>director_name</th>\n",
       "      <th>num_critic_for_reviews</th>\n",
       "      <th>gross</th>\n",
       "      <th>genres</th>\n",
       "      <th>actor_1_name</th>\n",
       "      <th>movie_title</th>\n",
       "      <th>num_voted_users</th>\n",
       "      <th>num_user_for_reviews</th>\n",
       "      <th>language</th>\n",
       "      <th>budget</th>\n",
       "      <th>title_year</th>\n",
       "      <th>imdb_score</th>\n",
       "      <th>movie_facebook_likes</th>\n",
       "      <th>profit</th>\n",
       "    </tr>\n",
       "  </thead>\n",
       "  <tbody>\n",
       "    <tr>\n",
       "      <th>0</th>\n",
       "      <td>James Cameron</td>\n",
       "      <td>723.0</td>\n",
       "      <td>760.505847</td>\n",
       "      <td>Action|Adventure|Fantasy|Sci-Fi</td>\n",
       "      <td>CCH Pounder</td>\n",
       "      <td>Avatar</td>\n",
       "      <td>886204</td>\n",
       "      <td>3054.0</td>\n",
       "      <td>English</td>\n",
       "      <td>237.00000</td>\n",
       "      <td>2009.0</td>\n",
       "      <td>7.9</td>\n",
       "      <td>33000</td>\n",
       "      <td>523.505847</td>\n",
       "    </tr>\n",
       "    <tr>\n",
       "      <th>29</th>\n",
       "      <td>Colin Trevorrow</td>\n",
       "      <td>644.0</td>\n",
       "      <td>652.177271</td>\n",
       "      <td>Action|Adventure|Sci-Fi|Thriller</td>\n",
       "      <td>Bryce Dallas Howard</td>\n",
       "      <td>Jurassic World</td>\n",
       "      <td>418214</td>\n",
       "      <td>1290.0</td>\n",
       "      <td>English</td>\n",
       "      <td>150.00000</td>\n",
       "      <td>2015.0</td>\n",
       "      <td>7.0</td>\n",
       "      <td>150000</td>\n",
       "      <td>502.177271</td>\n",
       "    </tr>\n",
       "    <tr>\n",
       "      <th>26</th>\n",
       "      <td>James Cameron</td>\n",
       "      <td>315.0</td>\n",
       "      <td>658.672302</td>\n",
       "      <td>Drama|Romance</td>\n",
       "      <td>Leonardo DiCaprio</td>\n",
       "      <td>Titanic</td>\n",
       "      <td>793059</td>\n",
       "      <td>2528.0</td>\n",
       "      <td>English</td>\n",
       "      <td>200.00000</td>\n",
       "      <td>1997.0</td>\n",
       "      <td>7.7</td>\n",
       "      <td>26000</td>\n",
       "      <td>458.672302</td>\n",
       "    </tr>\n",
       "    <tr>\n",
       "      <th>3024</th>\n",
       "      <td>George Lucas</td>\n",
       "      <td>282.0</td>\n",
       "      <td>460.935665</td>\n",
       "      <td>Action|Adventure|Fantasy|Sci-Fi</td>\n",
       "      <td>Harrison Ford</td>\n",
       "      <td>Star Wars: Episode IV - A New Hope</td>\n",
       "      <td>911097</td>\n",
       "      <td>1470.0</td>\n",
       "      <td>English</td>\n",
       "      <td>11.00000</td>\n",
       "      <td>1977.0</td>\n",
       "      <td>8.7</td>\n",
       "      <td>33000</td>\n",
       "      <td>449.935665</td>\n",
       "    </tr>\n",
       "    <tr>\n",
       "      <th>3080</th>\n",
       "      <td>Steven Spielberg</td>\n",
       "      <td>215.0</td>\n",
       "      <td>434.949459</td>\n",
       "      <td>Family|Sci-Fi</td>\n",
       "      <td>Henry Thomas</td>\n",
       "      <td>E.T. the Extra-Terrestrial</td>\n",
       "      <td>281842</td>\n",
       "      <td>515.0</td>\n",
       "      <td>English</td>\n",
       "      <td>10.50000</td>\n",
       "      <td>1982.0</td>\n",
       "      <td>7.9</td>\n",
       "      <td>34000</td>\n",
       "      <td>424.449459</td>\n",
       "    </tr>\n",
       "    <tr>\n",
       "      <th>...</th>\n",
       "      <td>...</td>\n",
       "      <td>...</td>\n",
       "      <td>...</td>\n",
       "      <td>...</td>\n",
       "      <td>...</td>\n",
       "      <td>...</td>\n",
       "      <td>...</td>\n",
       "      <td>...</td>\n",
       "      <td>...</td>\n",
       "      <td>...</td>\n",
       "      <td>...</td>\n",
       "      <td>...</td>\n",
       "      <td>...</td>\n",
       "      <td>...</td>\n",
       "    </tr>\n",
       "    <tr>\n",
       "      <th>5036</th>\n",
       "      <td>Anthony Vallone</td>\n",
       "      <td>0</td>\n",
       "      <td>NaN</td>\n",
       "      <td>Crime|Drama</td>\n",
       "      <td>Richard Jewell</td>\n",
       "      <td>The Mongol King</td>\n",
       "      <td>36</td>\n",
       "      <td>1.0</td>\n",
       "      <td>English</td>\n",
       "      <td>0.00325</td>\n",
       "      <td>2005.0</td>\n",
       "      <td>7.8</td>\n",
       "      <td>4</td>\n",
       "      <td>NaN</td>\n",
       "    </tr>\n",
       "    <tr>\n",
       "      <th>5038</th>\n",
       "      <td>Scott Smith</td>\n",
       "      <td>1.0</td>\n",
       "      <td>NaN</td>\n",
       "      <td>Comedy|Drama</td>\n",
       "      <td>Eric Mabius</td>\n",
       "      <td>Signed Sealed Delivered</td>\n",
       "      <td>629</td>\n",
       "      <td>6.0</td>\n",
       "      <td>English</td>\n",
       "      <td>NaN</td>\n",
       "      <td>2013.0</td>\n",
       "      <td>7.7</td>\n",
       "      <td>84</td>\n",
       "      <td>NaN</td>\n",
       "    </tr>\n",
       "    <tr>\n",
       "      <th>5039</th>\n",
       "      <td>Unknown</td>\n",
       "      <td>43.0</td>\n",
       "      <td>NaN</td>\n",
       "      <td>Crime|Drama|Mystery|Thriller</td>\n",
       "      <td>Natalie Zea</td>\n",
       "      <td>The Following</td>\n",
       "      <td>73839</td>\n",
       "      <td>359.0</td>\n",
       "      <td>English</td>\n",
       "      <td>NaN</td>\n",
       "      <td>0</td>\n",
       "      <td>7.5</td>\n",
       "      <td>32000</td>\n",
       "      <td>NaN</td>\n",
       "    </tr>\n",
       "    <tr>\n",
       "      <th>5040</th>\n",
       "      <td>Benjamin Roberds</td>\n",
       "      <td>13.0</td>\n",
       "      <td>NaN</td>\n",
       "      <td>Drama|Horror|Thriller</td>\n",
       "      <td>Eva Boehnke</td>\n",
       "      <td>A Plague So Pleasant</td>\n",
       "      <td>38</td>\n",
       "      <td>3.0</td>\n",
       "      <td>English</td>\n",
       "      <td>0.00140</td>\n",
       "      <td>2013.0</td>\n",
       "      <td>6.3</td>\n",
       "      <td>16</td>\n",
       "      <td>NaN</td>\n",
       "    </tr>\n",
       "    <tr>\n",
       "      <th>5041</th>\n",
       "      <td>Daniel Hsia</td>\n",
       "      <td>14.0</td>\n",
       "      <td>0.010443</td>\n",
       "      <td>Comedy|Drama|Romance</td>\n",
       "      <td>Alan Ruck</td>\n",
       "      <td>Shanghai Calling</td>\n",
       "      <td>1255</td>\n",
       "      <td>9.0</td>\n",
       "      <td>English</td>\n",
       "      <td>NaN</td>\n",
       "      <td>2012.0</td>\n",
       "      <td>6.3</td>\n",
       "      <td>660</td>\n",
       "      <td>NaN</td>\n",
       "    </tr>\n",
       "  </tbody>\n",
       "</table>\n",
       "<p>5043 rows × 14 columns</p>\n",
       "</div>"
      ],
      "text/plain": [
       "         director_name num_critic_for_reviews       gross  \\\n",
       "0        James Cameron                  723.0  760.505847   \n",
       "29     Colin Trevorrow                  644.0  652.177271   \n",
       "26       James Cameron                  315.0  658.672302   \n",
       "3024      George Lucas                  282.0  460.935665   \n",
       "3080  Steven Spielberg                  215.0  434.949459   \n",
       "...                ...                    ...         ...   \n",
       "5036   Anthony Vallone                      0         NaN   \n",
       "5038       Scott Smith                    1.0         NaN   \n",
       "5039           Unknown                   43.0         NaN   \n",
       "5040  Benjamin Roberds                   13.0         NaN   \n",
       "5041       Daniel Hsia                   14.0    0.010443   \n",
       "\n",
       "                                genres         actor_1_name  \\\n",
       "0      Action|Adventure|Fantasy|Sci-Fi          CCH Pounder   \n",
       "29    Action|Adventure|Sci-Fi|Thriller  Bryce Dallas Howard   \n",
       "26                       Drama|Romance    Leonardo DiCaprio   \n",
       "3024   Action|Adventure|Fantasy|Sci-Fi        Harrison Ford   \n",
       "3080                     Family|Sci-Fi         Henry Thomas   \n",
       "...                                ...                  ...   \n",
       "5036                       Crime|Drama       Richard Jewell   \n",
       "5038                      Comedy|Drama          Eric Mabius   \n",
       "5039      Crime|Drama|Mystery|Thriller          Natalie Zea   \n",
       "5040             Drama|Horror|Thriller          Eva Boehnke   \n",
       "5041              Comedy|Drama|Romance            Alan Ruck   \n",
       "\n",
       "                              movie_title  num_voted_users  \\\n",
       "0                                 Avatar            886204   \n",
       "29                        Jurassic World            418214   \n",
       "26                               Titanic            793059   \n",
       "3024  Star Wars: Episode IV - A New Hope            911097   \n",
       "3080          E.T. the Extra-Terrestrial            281842   \n",
       "...                                   ...              ...   \n",
       "5036                     The Mongol King                36   \n",
       "5038             Signed Sealed Delivered               629   \n",
       "5039           The Following                         73839   \n",
       "5040                A Plague So Pleasant                38   \n",
       "5041                    Shanghai Calling              1255   \n",
       "\n",
       "     num_user_for_reviews language     budget title_year  imdb_score  \\\n",
       "0                  3054.0  English  237.00000     2009.0         7.9   \n",
       "29                 1290.0  English  150.00000     2015.0         7.0   \n",
       "26                 2528.0  English  200.00000     1997.0         7.7   \n",
       "3024               1470.0  English   11.00000     1977.0         8.7   \n",
       "3080                515.0  English   10.50000     1982.0         7.9   \n",
       "...                   ...      ...        ...        ...         ...   \n",
       "5036                  1.0  English    0.00325     2005.0         7.8   \n",
       "5038                  6.0  English        NaN     2013.0         7.7   \n",
       "5039                359.0  English        NaN          0         7.5   \n",
       "5040                  3.0  English    0.00140     2013.0         6.3   \n",
       "5041                  9.0  English        NaN     2012.0         6.3   \n",
       "\n",
       "      movie_facebook_likes      profit  \n",
       "0                    33000  523.505847  \n",
       "29                  150000  502.177271  \n",
       "26                   26000  458.672302  \n",
       "3024                 33000  449.935665  \n",
       "3080                 34000  424.449459  \n",
       "...                    ...         ...  \n",
       "5036                     4         NaN  \n",
       "5038                    84         NaN  \n",
       "5039                 32000         NaN  \n",
       "5040                    16         NaN  \n",
       "5041                   660         NaN  \n",
       "\n",
       "[5043 rows x 14 columns]"
      ]
     },
     "execution_count": 38,
     "metadata": {},
     "output_type": "execute_result"
    }
   ],
   "source": [
    "# Write your code for sorting the dataframe here\n",
    "movies_sorted = movies.sort_values(by='profit', ascending= False) # sort by profit in descending order\n",
    "movies_sorted"
   ]
  },
  {
   "cell_type": "code",
   "execution_count": 39,
   "metadata": {},
   "outputs": [
    {
     "data": {
      "image/png": "[encoded data removed]",
      "text/plain": [
       "<Figure size 800x500 with 1 Axes>"
      ]
     },
     "metadata": {},
     "output_type": "display_data"
    }
   ],
   "source": [
    "# Write code for profit vs budget plot here\n",
    "import matplotlib.pyplot as plt\n",
    "\n",
    "# create a scatter plot of budget vs profit\n",
    "plt.figure(figsize = (8, 5)) # set figure size  # 8 inches wide and 5 inches tall\n",
    "plt.scatter(movies['budget'], movies['profit'], alpha = 0.5) # set transparency for overlapping points\n",
    "\n",
    "# Add labels and title\n",
    "plt.xlabel('Budget (millions $)')\n",
    "plt.ylabel('Profit (millions $)')\n",
    "plt.title('Profit vs Budget')\n",
    "\n",
    "# Add grid for better readability\n",
    "plt.grid(True, linestyle = '--', alpha = 0.7) # \n",
    "\n",
    "# Add a reference line at y = 0 to seprate profitable and unprofitable movies\n",
    "plt.axhline(y = 0, color = 'r', linestyle = '--', alpha = 0.3)\n",
    "\n",
    "# show plot\n",
    "plt.tight_layout() # adjust layout to prevent clipping of tick-labels\n",
    "plt.show()\n",
    "\n",
    "# 1- Create a scatter plot where each point represents a movie\n",
    "# 2- The x-axis represents the budget of the movie in millions of dollars\n",
    "# 3- The y-axis represents the profit of the movie in millions of dollars\n",
    "# 4- Points above the Red dashed line indicate profitable movies\n",
    "# 5- Points below the Red dashed line indicate unprofitable movies\n",
    "# 6- Outliers will be visible as points that are far from the main cluster\n",
    "# 7- Alpha=0.5 makes overlapping points more visible"
   ]
  },
  {
   "cell_type": "code",
   "execution_count": 40,
   "metadata": {},
   "outputs": [
    {
     "data": {
      "text/html": [
       "<div>\n",
       "<style scoped>\n",
       "    .dataframe tbody tr th:only-of-type {\n",
       "        vertical-align: middle;\n",
       "    }\n",
       "\n",
       "    .dataframe tbody tr th {\n",
       "        vertical-align: top;\n",
       "    }\n",
       "\n",
       "    .dataframe thead th {\n",
       "        text-align: right;\n",
       "    }\n",
       "</style>\n",
       "<table border=\"1\" class=\"dataframe\">\n",
       "  <thead>\n",
       "    <tr style=\"text-align: right;\">\n",
       "      <th></th>\n",
       "      <th>movie_title</th>\n",
       "      <th>profit</th>\n",
       "    </tr>\n",
       "  </thead>\n",
       "  <tbody>\n",
       "    <tr>\n",
       "      <th>0</th>\n",
       "      <td>Avatar</td>\n",
       "      <td>523.505847</td>\n",
       "    </tr>\n",
       "    <tr>\n",
       "      <th>29</th>\n",
       "      <td>Jurassic World</td>\n",
       "      <td>502.177271</td>\n",
       "    </tr>\n",
       "    <tr>\n",
       "      <th>26</th>\n",
       "      <td>Titanic</td>\n",
       "      <td>458.672302</td>\n",
       "    </tr>\n",
       "    <tr>\n",
       "      <th>3024</th>\n",
       "      <td>Star Wars: Episode IV - A New Hope</td>\n",
       "      <td>449.935665</td>\n",
       "    </tr>\n",
       "    <tr>\n",
       "      <th>3080</th>\n",
       "      <td>E.T. the Extra-Terrestrial</td>\n",
       "      <td>424.449459</td>\n",
       "    </tr>\n",
       "    <tr>\n",
       "      <th>17</th>\n",
       "      <td>The Avengers</td>\n",
       "      <td>403.279547</td>\n",
       "    </tr>\n",
       "    <tr>\n",
       "      <th>794</th>\n",
       "      <td>The Avengers</td>\n",
       "      <td>403.279547</td>\n",
       "    </tr>\n",
       "    <tr>\n",
       "      <th>509</th>\n",
       "      <td>The Lion King</td>\n",
       "      <td>377.783777</td>\n",
       "    </tr>\n",
       "    <tr>\n",
       "      <th>240</th>\n",
       "      <td>Star Wars: Episode I - The Phantom Menace</td>\n",
       "      <td>359.544677</td>\n",
       "    </tr>\n",
       "    <tr>\n",
       "      <th>66</th>\n",
       "      <td>The Dark Knight</td>\n",
       "      <td>348.316061</td>\n",
       "    </tr>\n",
       "  </tbody>\n",
       "</table>\n",
       "</div>"
      ],
      "text/plain": [
       "                                     movie_title      profit\n",
       "0                                        Avatar   523.505847\n",
       "29                               Jurassic World   502.177271\n",
       "26                                      Titanic   458.672302\n",
       "3024         Star Wars: Episode IV - A New Hope   449.935665\n",
       "3080                 E.T. the Extra-Terrestrial   424.449459\n",
       "17                                 The Avengers   403.279547\n",
       "794                                The Avengers   403.279547\n",
       "509                               The Lion King   377.783777\n",
       "240   Star Wars: Episode I - The Phantom Menace   359.544677\n",
       "66                              The Dark Knight   348.316061"
      ]
     },
     "execution_count": 40,
     "metadata": {},
     "output_type": "execute_result"
    }
   ],
   "source": [
    "# Write your code to get the top 10 profiting movies here\n",
    "movies_sorted[['movie_title', 'profit']].head(10) # display top 10 movies by profit"
   ]
  },
  {
   "cell_type": "markdown",
   "metadata": {},
   "source": [
    "-  ### Subtask 3.3: Drop duplicate values\n",
    "\n",
    "After you found out the top 10 profiting movies, you might have noticed a duplicate value. So, it seems like the dataframe has duplicate values as well. Drop the duplicate values from the dataframe and repeat `Subtask 3.2`. Note that the same `movie_title` can be there in different languages. "
   ]
  },
  {
   "cell_type": "code",
   "execution_count": null,
   "metadata": {},
   "outputs": [],
   "source": [
    "# Write your code for dropping duplicate values here\n"
   ]
  },
  {
   "cell_type": "code",
   "execution_count": null,
   "metadata": {},
   "outputs": [],
   "source": [
    "# Write code for repeating subtask 2 here\n"
   ]
  },
  {
   "cell_type": "markdown",
   "metadata": {},
   "source": [
    "**Checkpoint 2:** You might spot two movies directed by `James Cameron` in the list."
   ]
  },
  {
   "cell_type": "markdown",
   "metadata": {},
   "source": [
    "-  ### Subtask 3.4: Find IMDb Top 250\n",
    "\n",
    "    1. Create a new dataframe `IMDb_Top_250` and store the top 250 movies with the highest IMDb Rating (corresponding to the column: `imdb_score`). Also make sure that for all of these movies, the `num_voted_users` is greater than 25,000.\n",
    "Also add a `Rank` column containing the values 1 to 250 indicating the ranks of the corresponding films.\n",
    "    2. Extract all the movies in the `IMDb_Top_250` dataframe which are not in the English language and store them in a new dataframe named `Top_Foreign_Lang_Film`."
   ]
  },
  {
   "cell_type": "code",
   "execution_count": null,
   "metadata": {},
   "outputs": [],
   "source": [
    "# Write your code for extracting the top 250 movies as per the IMDb score here. Make sure that you store it in a new dataframe \n",
    "# and name that dataframe as 'IMDb_Top_250'\n"
   ]
  },
  {
   "cell_type": "code",
   "execution_count": null,
   "metadata": {},
   "outputs": [],
   "source": [
    "Top_Foreign_Lang_Film = # Write your code to extract top foreign language films from 'IMDb_Top_250' here"
   ]
  },
  {
   "cell_type": "markdown",
   "metadata": {},
   "source": [
    "**Checkpoint 3:** Can you spot `Veer-Zaara` in the dataframe?"
   ]
  },
  {
   "cell_type": "markdown",
   "metadata": {},
   "source": [
    "- ### Subtask 3.5: Find the best directors\n",
    "\n",
    "    1. Group the dataframe using the `director_name` column.\n",
    "    2. Find out the top 10 directors for whom the mean of `imdb_score` is the highest and store them in a new dataframe `top10director`.  Incase of a tie in IMDb score between two directors, sort them alphabetically. "
   ]
  },
  {
   "cell_type": "code",
   "execution_count": null,
   "metadata": {},
   "outputs": [],
   "source": [
    "# Write your code for extracting the top 10 directors here\n"
   ]
  },
  {
   "cell_type": "markdown",
   "metadata": {},
   "source": [
    "**Checkpoint 4:** No surprises that `Damien Chazelle` (director of Whiplash and La La Land) is in this list."
   ]
  },
  {
   "cell_type": "markdown",
   "metadata": {},
   "source": [
    "-  ### Subtask 3.6: Find popular genres\n",
    "\n",
    "You might have noticed the `genres` column in the dataframe with all the genres of the movies seperated by a pipe (`|`). Out of all the movie genres, the first two are most significant for any film.\n",
    "\n",
    "1. Extract the first two genres from the `genres` column and store them in two new columns: `genre_1` and `genre_2`. Some of the movies might have only one genre. In such cases, extract the single genre into both the columns, i.e. for such movies the `genre_2` will be the same as `genre_1`.\n",
    "2. Group the dataframe using `genre_1` as the primary column and `genre_2` as the secondary column.\n",
    "3. Find out the 5 most popular combo of genres by finding the mean of the gross values using the `gross` column and store them in a new dataframe named `PopGenre`."
   ]
  },
  {
   "cell_type": "code",
   "execution_count": null,
   "metadata": {},
   "outputs": [],
   "source": [
    "# Write your code for extracting the first two genres of each movie here\n"
   ]
  },
  {
   "cell_type": "code",
   "execution_count": null,
   "metadata": {},
   "outputs": [],
   "source": [
    "movies_by_segment = # Write your code for grouping the dataframe here"
   ]
  },
  {
   "cell_type": "code",
   "execution_count": null,
   "metadata": {},
   "outputs": [],
   "source": [
    "PopGenre = # Write your code for getting the 5 most popular combo of genres here"
   ]
  },
  {
   "cell_type": "markdown",
   "metadata": {},
   "source": [
    "**Checkpoint 5:** Well, as it turns out. `Family + Sci-Fi` is the most popular combo of genres out there!"
   ]
  },
  {
   "cell_type": "markdown",
   "metadata": {},
   "source": [
    "-  ### Subtask 3.7: Find the critic-favorite and audience-favorite actors\n",
    "\n",
    "    1. Create three new dataframes namely, `Meryl_Streep`, `Leo_Caprio`, and `Brad_Pitt` which contain the movies in which the actors: 'Meryl Streep', 'Leonardo DiCaprio', and 'Brad Pitt' are the lead actors. Use only the `actor_1_name` column for extraction. Also, make sure that you use the names 'Meryl Streep', 'Leonardo DiCaprio', and 'Brad Pitt' for the said extraction.\n",
    "    2. Append the rows of all these dataframes and store them in a new dataframe named `Combined`.\n",
    "    3. Group the combined dataframe using the `actor_1_name` column.\n",
    "    4. Find the mean of the `num_critic_for_reviews` and `num_users_for_review` and identify the actors which have the highest mean.\n",
    "    5. Observe the change in number of voted users over decades using a bar chart. Create a column called `decade` which represents the decade to which every movie belongs to. For example, the  `title_year`  year 1923, 1925 should be stored as 1920s. Sort the dataframe based on the column `decade`, group it by `decade` and find the sum of users voted in each decade. Store this in a new data frame called `df_by_decade`."
   ]
  },
  {
   "cell_type": "code",
   "execution_count": null,
   "metadata": {},
   "outputs": [],
   "source": [
    "# Write your code for creating three new dataframes here\n",
    "\n",
    "Meryl_Streep = # Include all movies in which Meryl_Streep is the lead"
   ]
  },
  {
   "cell_type": "code",
   "execution_count": null,
   "metadata": {},
   "outputs": [],
   "source": [
    "Leo_Caprio = # Include all movies in which Leo_Caprio is the lead"
   ]
  },
  {
   "cell_type": "code",
   "execution_count": null,
   "metadata": {},
   "outputs": [],
   "source": [
    "Brad_Pitt = # Include all movies in which Brad_Pitt is the lead"
   ]
  },
  {
   "cell_type": "code",
   "execution_count": null,
   "metadata": {},
   "outputs": [],
   "source": [
    "# Write your code for combining the three dataframes here\n"
   ]
  },
  {
   "cell_type": "code",
   "execution_count": null,
   "metadata": {},
   "outputs": [],
   "source": [
    "# Write your code for grouping the combined dataframe here\n"
   ]
  },
  {
   "cell_type": "code",
   "execution_count": null,
   "metadata": {},
   "outputs": [],
   "source": [
    "# Write the code for finding the mean of critic reviews and audience reviews here\n"
   ]
  },
  {
   "cell_type": "markdown",
   "metadata": {},
   "source": [
    "**Checkpoint 6:** `Leonardo` has aced both the lists!"
   ]
  },
  {
   "cell_type": "code",
   "execution_count": null,
   "metadata": {},
   "outputs": [],
   "source": [
    "# Write the code for calculating decade here"
   ]
  },
  {
   "cell_type": "code",
   "execution_count": null,
   "metadata": {},
   "outputs": [],
   "source": [
    "# Write your code for creating the data frame df_by_decade here "
   ]
  },
  {
   "cell_type": "code",
   "execution_count": null,
   "metadata": {},
   "outputs": [],
   "source": [
    "# Write your code for plotting number of voted users vs decade"
   ]
  }
 ],
 "metadata": {
  "kernelspec": {
   "display_name": "Python 3",
   "language": "python",
   "name": "python3"
  },
  "language_info": {
   "codemirror_mode": {
    "name": "ipython",
    "version": 3
   },
   "file_extension": ".py",
   "mimetype": "text/x-python",
   "name": "python",
   "nbconvert_exporter": "python",
   "pygments_lexer": "ipython3",
   "version": "3.12.1"
  }
 },
 "nbformat": 4,
 "nbformat_minor": 2
}
